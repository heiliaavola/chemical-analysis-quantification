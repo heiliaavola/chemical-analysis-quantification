{
  "nbformat": 4,
  "nbformat_minor": 0,
  "metadata": {
    "colab": {
      "provenance": [],
      "include_colab_link": true
    },
    "kernelspec": {
      "name": "python3",
      "display_name": "Python 3"
    },
    "language_info": {
      "name": "python"
    }
  },
  "cells": [
    {
      "cell_type": "markdown",
      "metadata": {
        "id": "view-in-github",
        "colab_type": "text"
      },
      "source": [
        "<a href=\"https://colab.research.google.com/github/heiliaavola/chemical-analysis-quantification/blob/main/Chemical_analysis_quantification_Machine_Learning_approach.ipynb\" target=\"_parent\"><img src=\"https://colab.research.google.com/assets/colab-badge.svg\" alt=\"Open In Colab\"/></a>"
      ]
    },
    {
      "cell_type": "markdown",
      "source": [
        "#Chemical Analysis Quantification"
      ],
      "metadata": {
        "id": "tWuVjuxQHt_6"
      }
    },
    {
      "cell_type": "markdown",
      "source": [
        "##Machine Learning approach"
      ],
      "metadata": {
        "id": "PU032qkkH68u"
      }
    },
    {
      "cell_type": "markdown",
      "source": [
        "Annabel Hiiu & Anett Sandberg"
      ],
      "metadata": {
        "id": "bL5srYvxxkWn"
      }
    },
    {
      "cell_type": "markdown",
      "source": [
        "###Exploring the data"
      ],
      "metadata": {
        "id": "Zwc-UFjp2leX"
      }
    },
    {
      "cell_type": "code",
      "source": [
        "import numpy as np\n",
        "import pandas as pd\n",
        "import matplotlib.pyplot as plt\n",
        "from plotnine import *\n",
        "from sklearn.linear_model import LinearRegression\n",
        "from sklearn.metrics import accuracy_score, confusion_matrix, classification_report\n",
        "import seaborn as sns"
      ],
      "metadata": {
        "id": "AeryfnWKIQHI"
      },
      "execution_count": null,
      "outputs": []
    },
    {
      "cell_type": "code",
      "source": [
        "data = pd.read_csv('data_ready_231029.csv')\n",
        "data.head()"
      ],
      "metadata": {
        "id": "zOt1o6WgK7fH",
        "colab": {
          "base_uri": "https://localhost:8080/",
          "height": 206
        },
        "outputId": "56b71606-a612-43b9-8220-9ff71525d3d7"
      },
      "execution_count": null,
      "outputs": [
        {
          "output_type": "execute_result",
          "data": {
            "text/plain": [
              "  lab  compound sample_type    RT sample     peak_area        note  \\\n",
              "0  L1  Amitrole         cal  0.72   cal1  2.856002e+08  non-linear   \n",
              "1  L1  Amitrole         cal  0.72   cal2  1.030577e+08  non-linear   \n",
              "2  L1  Amitrole         cal  0.72   cal3  6.593301e+07  non-linear   \n",
              "3  L1  Amitrole         cal  0.72   cal4  3.805867e+07  non-linear   \n",
              "4  L1  Amitrole         cal  0.72   cal5  1.340538e+07      linear   \n",
              "\n",
              "       c_real_M  \n",
              "0  6.250000e-06  \n",
              "1  2.580000e-06  \n",
              "2  1.340000e-06  \n",
              "3  7.780000e-07  \n",
              "4  2.350000e-07  "
            ],
            "text/html": [
              "\n",
              "  <div id=\"df-a770e8bd-4a2b-4ae3-8d40-c8a31a1d3407\" class=\"colab-df-container\">\n",
              "    <div>\n",
              "<style scoped>\n",
              "    .dataframe tbody tr th:only-of-type {\n",
              "        vertical-align: middle;\n",
              "    }\n",
              "\n",
              "    .dataframe tbody tr th {\n",
              "        vertical-align: top;\n",
              "    }\n",
              "\n",
              "    .dataframe thead th {\n",
              "        text-align: right;\n",
              "    }\n",
              "</style>\n",
              "<table border=\"1\" class=\"dataframe\">\n",
              "  <thead>\n",
              "    <tr style=\"text-align: right;\">\n",
              "      <th></th>\n",
              "      <th>lab</th>\n",
              "      <th>compound</th>\n",
              "      <th>sample_type</th>\n",
              "      <th>RT</th>\n",
              "      <th>sample</th>\n",
              "      <th>peak_area</th>\n",
              "      <th>note</th>\n",
              "      <th>c_real_M</th>\n",
              "    </tr>\n",
              "  </thead>\n",
              "  <tbody>\n",
              "    <tr>\n",
              "      <th>0</th>\n",
              "      <td>L1</td>\n",
              "      <td>Amitrole</td>\n",
              "      <td>cal</td>\n",
              "      <td>0.72</td>\n",
              "      <td>cal1</td>\n",
              "      <td>2.856002e+08</td>\n",
              "      <td>non-linear</td>\n",
              "      <td>6.250000e-06</td>\n",
              "    </tr>\n",
              "    <tr>\n",
              "      <th>1</th>\n",
              "      <td>L1</td>\n",
              "      <td>Amitrole</td>\n",
              "      <td>cal</td>\n",
              "      <td>0.72</td>\n",
              "      <td>cal2</td>\n",
              "      <td>1.030577e+08</td>\n",
              "      <td>non-linear</td>\n",
              "      <td>2.580000e-06</td>\n",
              "    </tr>\n",
              "    <tr>\n",
              "      <th>2</th>\n",
              "      <td>L1</td>\n",
              "      <td>Amitrole</td>\n",
              "      <td>cal</td>\n",
              "      <td>0.72</td>\n",
              "      <td>cal3</td>\n",
              "      <td>6.593301e+07</td>\n",
              "      <td>non-linear</td>\n",
              "      <td>1.340000e-06</td>\n",
              "    </tr>\n",
              "    <tr>\n",
              "      <th>3</th>\n",
              "      <td>L1</td>\n",
              "      <td>Amitrole</td>\n",
              "      <td>cal</td>\n",
              "      <td>0.72</td>\n",
              "      <td>cal4</td>\n",
              "      <td>3.805867e+07</td>\n",
              "      <td>non-linear</td>\n",
              "      <td>7.780000e-07</td>\n",
              "    </tr>\n",
              "    <tr>\n",
              "      <th>4</th>\n",
              "      <td>L1</td>\n",
              "      <td>Amitrole</td>\n",
              "      <td>cal</td>\n",
              "      <td>0.72</td>\n",
              "      <td>cal5</td>\n",
              "      <td>1.340538e+07</td>\n",
              "      <td>linear</td>\n",
              "      <td>2.350000e-07</td>\n",
              "    </tr>\n",
              "  </tbody>\n",
              "</table>\n",
              "</div>\n",
              "    <div class=\"colab-df-buttons\">\n",
              "\n",
              "  <div class=\"colab-df-container\">\n",
              "    <button class=\"colab-df-convert\" onclick=\"convertToInteractive('df-a770e8bd-4a2b-4ae3-8d40-c8a31a1d3407')\"\n",
              "            title=\"Convert this dataframe to an interactive table.\"\n",
              "            style=\"display:none;\">\n",
              "\n",
              "  <svg xmlns=\"http://www.w3.org/2000/svg\" height=\"24px\" viewBox=\"0 -960 960 960\">\n",
              "    <path d=\"M120-120v-720h720v720H120Zm60-500h600v-160H180v160Zm220 220h160v-160H400v160Zm0 220h160v-160H400v160ZM180-400h160v-160H180v160Zm440 0h160v-160H620v160ZM180-180h160v-160H180v160Zm440 0h160v-160H620v160Z\"/>\n",
              "  </svg>\n",
              "    </button>\n",
              "\n",
              "  <style>\n",
              "    .colab-df-container {\n",
              "      display:flex;\n",
              "      gap: 12px;\n",
              "    }\n",
              "\n",
              "    .colab-df-convert {\n",
              "      background-color: #E8F0FE;\n",
              "      border: none;\n",
              "      border-radius: 50%;\n",
              "      cursor: pointer;\n",
              "      display: none;\n",
              "      fill: #1967D2;\n",
              "      height: 32px;\n",
              "      padding: 0 0 0 0;\n",
              "      width: 32px;\n",
              "    }\n",
              "\n",
              "    .colab-df-convert:hover {\n",
              "      background-color: #E2EBFA;\n",
              "      box-shadow: 0px 1px 2px rgba(60, 64, 67, 0.3), 0px 1px 3px 1px rgba(60, 64, 67, 0.15);\n",
              "      fill: #174EA6;\n",
              "    }\n",
              "\n",
              "    .colab-df-buttons div {\n",
              "      margin-bottom: 4px;\n",
              "    }\n",
              "\n",
              "    [theme=dark] .colab-df-convert {\n",
              "      background-color: #3B4455;\n",
              "      fill: #D2E3FC;\n",
              "    }\n",
              "\n",
              "    [theme=dark] .colab-df-convert:hover {\n",
              "      background-color: #434B5C;\n",
              "      box-shadow: 0px 1px 3px 1px rgba(0, 0, 0, 0.15);\n",
              "      filter: drop-shadow(0px 1px 2px rgba(0, 0, 0, 0.3));\n",
              "      fill: #FFFFFF;\n",
              "    }\n",
              "  </style>\n",
              "\n",
              "    <script>\n",
              "      const buttonEl =\n",
              "        document.querySelector('#df-a770e8bd-4a2b-4ae3-8d40-c8a31a1d3407 button.colab-df-convert');\n",
              "      buttonEl.style.display =\n",
              "        google.colab.kernel.accessAllowed ? 'block' : 'none';\n",
              "\n",
              "      async function convertToInteractive(key) {\n",
              "        const element = document.querySelector('#df-a770e8bd-4a2b-4ae3-8d40-c8a31a1d3407');\n",
              "        const dataTable =\n",
              "          await google.colab.kernel.invokeFunction('convertToInteractive',\n",
              "                                                    [key], {});\n",
              "        if (!dataTable) return;\n",
              "\n",
              "        const docLinkHtml = 'Like what you see? Visit the ' +\n",
              "          '<a target=\"_blank\" href=https://colab.research.google.com/notebooks/data_table.ipynb>data table notebook</a>'\n",
              "          + ' to learn more about interactive tables.';\n",
              "        element.innerHTML = '';\n",
              "        dataTable['output_type'] = 'display_data';\n",
              "        await google.colab.output.renderOutput(dataTable, element);\n",
              "        const docLink = document.createElement('div');\n",
              "        docLink.innerHTML = docLinkHtml;\n",
              "        element.appendChild(docLink);\n",
              "      }\n",
              "    </script>\n",
              "  </div>\n",
              "\n",
              "\n",
              "<div id=\"df-55d72e99-87b5-437b-931f-9db98ead8b9a\">\n",
              "  <button class=\"colab-df-quickchart\" onclick=\"quickchart('df-55d72e99-87b5-437b-931f-9db98ead8b9a')\"\n",
              "            title=\"Suggest charts\"\n",
              "            style=\"display:none;\">\n",
              "\n",
              "<svg xmlns=\"http://www.w3.org/2000/svg\" height=\"24px\"viewBox=\"0 0 24 24\"\n",
              "     width=\"24px\">\n",
              "    <g>\n",
              "        <path d=\"M19 3H5c-1.1 0-2 .9-2 2v14c0 1.1.9 2 2 2h14c1.1 0 2-.9 2-2V5c0-1.1-.9-2-2-2zM9 17H7v-7h2v7zm4 0h-2V7h2v10zm4 0h-2v-4h2v4z\"/>\n",
              "    </g>\n",
              "</svg>\n",
              "  </button>\n",
              "\n",
              "<style>\n",
              "  .colab-df-quickchart {\n",
              "      --bg-color: #E8F0FE;\n",
              "      --fill-color: #1967D2;\n",
              "      --hover-bg-color: #E2EBFA;\n",
              "      --hover-fill-color: #174EA6;\n",
              "      --disabled-fill-color: #AAA;\n",
              "      --disabled-bg-color: #DDD;\n",
              "  }\n",
              "\n",
              "  [theme=dark] .colab-df-quickchart {\n",
              "      --bg-color: #3B4455;\n",
              "      --fill-color: #D2E3FC;\n",
              "      --hover-bg-color: #434B5C;\n",
              "      --hover-fill-color: #FFFFFF;\n",
              "      --disabled-bg-color: #3B4455;\n",
              "      --disabled-fill-color: #666;\n",
              "  }\n",
              "\n",
              "  .colab-df-quickchart {\n",
              "    background-color: var(--bg-color);\n",
              "    border: none;\n",
              "    border-radius: 50%;\n",
              "    cursor: pointer;\n",
              "    display: none;\n",
              "    fill: var(--fill-color);\n",
              "    height: 32px;\n",
              "    padding: 0;\n",
              "    width: 32px;\n",
              "  }\n",
              "\n",
              "  .colab-df-quickchart:hover {\n",
              "    background-color: var(--hover-bg-color);\n",
              "    box-shadow: 0 1px 2px rgba(60, 64, 67, 0.3), 0 1px 3px 1px rgba(60, 64, 67, 0.15);\n",
              "    fill: var(--button-hover-fill-color);\n",
              "  }\n",
              "\n",
              "  .colab-df-quickchart-complete:disabled,\n",
              "  .colab-df-quickchart-complete:disabled:hover {\n",
              "    background-color: var(--disabled-bg-color);\n",
              "    fill: var(--disabled-fill-color);\n",
              "    box-shadow: none;\n",
              "  }\n",
              "\n",
              "  .colab-df-spinner {\n",
              "    border: 2px solid var(--fill-color);\n",
              "    border-color: transparent;\n",
              "    border-bottom-color: var(--fill-color);\n",
              "    animation:\n",
              "      spin 1s steps(1) infinite;\n",
              "  }\n",
              "\n",
              "  @keyframes spin {\n",
              "    0% {\n",
              "      border-color: transparent;\n",
              "      border-bottom-color: var(--fill-color);\n",
              "      border-left-color: var(--fill-color);\n",
              "    }\n",
              "    20% {\n",
              "      border-color: transparent;\n",
              "      border-left-color: var(--fill-color);\n",
              "      border-top-color: var(--fill-color);\n",
              "    }\n",
              "    30% {\n",
              "      border-color: transparent;\n",
              "      border-left-color: var(--fill-color);\n",
              "      border-top-color: var(--fill-color);\n",
              "      border-right-color: var(--fill-color);\n",
              "    }\n",
              "    40% {\n",
              "      border-color: transparent;\n",
              "      border-right-color: var(--fill-color);\n",
              "      border-top-color: var(--fill-color);\n",
              "    }\n",
              "    60% {\n",
              "      border-color: transparent;\n",
              "      border-right-color: var(--fill-color);\n",
              "    }\n",
              "    80% {\n",
              "      border-color: transparent;\n",
              "      border-right-color: var(--fill-color);\n",
              "      border-bottom-color: var(--fill-color);\n",
              "    }\n",
              "    90% {\n",
              "      border-color: transparent;\n",
              "      border-bottom-color: var(--fill-color);\n",
              "    }\n",
              "  }\n",
              "</style>\n",
              "\n",
              "  <script>\n",
              "    async function quickchart(key) {\n",
              "      const quickchartButtonEl =\n",
              "        document.querySelector('#' + key + ' button');\n",
              "      quickchartButtonEl.disabled = true;  // To prevent multiple clicks.\n",
              "      quickchartButtonEl.classList.add('colab-df-spinner');\n",
              "      try {\n",
              "        const charts = await google.colab.kernel.invokeFunction(\n",
              "            'suggestCharts', [key], {});\n",
              "      } catch (error) {\n",
              "        console.error('Error during call to suggestCharts:', error);\n",
              "      }\n",
              "      quickchartButtonEl.classList.remove('colab-df-spinner');\n",
              "      quickchartButtonEl.classList.add('colab-df-quickchart-complete');\n",
              "    }\n",
              "    (() => {\n",
              "      let quickchartButtonEl =\n",
              "        document.querySelector('#df-55d72e99-87b5-437b-931f-9db98ead8b9a button');\n",
              "      quickchartButtonEl.style.display =\n",
              "        google.colab.kernel.accessAllowed ? 'block' : 'none';\n",
              "    })();\n",
              "  </script>\n",
              "</div>\n",
              "    </div>\n",
              "  </div>\n"
            ]
          },
          "metadata": {},
          "execution_count": 4
        }
      ]
    },
    {
      "cell_type": "code",
      "source": [
        "print('Column \"lab\": ')\n",
        "unique_values_lab = data['lab'].unique() #Data from 19 labs\n",
        "print(f'Data from {len(unique_values_lab)} different laboratories.\\n')\n",
        "\n",
        "print('Column \"compound\": ')\n",
        "unique_values_compound = data['compound'].unique() #About 52 different chemicals\n",
        "print(f'Information about {len(unique_values_compound)} different chemical compounds.\\n')\n",
        "\n",
        "print('Column \"sample_type\": ')\n",
        "unique_values_sample_type = data['sample_type'].unique() #All points are calibration points, so this column is not informative\n",
        "print(unique_values_sample_type)\n",
        "print('All points are calibration points, so this column is not informative.\\n')\n",
        "\n",
        "print('Column \"sample\": ')\n",
        "unique_values_sample = data['sample'].unique() #Each graph has up to 6 points.\n",
        "print(unique_values_sample)\n",
        "print(f'Each group has up to {len(unique_values_sample)} datapoints.\\n')\n",
        "\n",
        "print('Column \"c_real_M\": ')\n",
        "unique_values_c = data['c_real_M'].unique()\n",
        "print(f'Concentration values range from {min(unique_values_c)}M to {max(unique_values_c)}M.')\n",
        "print('Therefore this column should be normalised.')\n"
      ],
      "metadata": {
        "colab": {
          "base_uri": "https://localhost:8080/"
        },
        "id": "KGSs2rrah-3h",
        "outputId": "5ec52bb3-d583-49f7-a2c5-d2fac437b878"
      },
      "execution_count": null,
      "outputs": [
        {
          "output_type": "stream",
          "name": "stdout",
          "text": [
            "Column \"lab\": \n",
            "Data from 19 different laboratories.\n",
            "\n",
            "Column \"compound\": \n",
            "Information about 52 different chemical compounds.\n",
            "\n",
            "Column \"sample_type\": \n",
            "['cal']\n",
            "All points are calibration points, so this column is not informative.\n",
            "\n",
            "Column \"sample\": \n",
            "['cal1' 'cal2' 'cal3' 'cal4' 'cal5' 'cal6']\n",
            "Each group has up to 6 datapoints.\n",
            "\n",
            "Column \"c_real_M\": \n",
            "Concentration values range from 8.49e-10M to 8.9e-06M.\n",
            "Therefore this column should be normalised.\n"
          ]
        }
      ]
    },
    {
      "cell_type": "markdown",
      "source": [
        "###Preprocessing the data"
      ],
      "metadata": {
        "id": "XkUU0mmw2tOb"
      }
    },
    {
      "cell_type": "code",
      "source": [
        "from sklearn.model_selection import train_test_split\n",
        "from sklearn.preprocessing import LabelEncoder\n",
        "\n",
        "data_dropped = data.drop(columns=['sample_type'])\n",
        "\n",
        "data_cleaned = data_dropped.dropna()\n",
        "print(f'Before had {len(data)} rows and after dropping rows, where concentration is missing, have {len(data_cleaned)} rows.')\n",
        "\n",
        "# Normalizing 'c_real_M' within each group by dividing by the maximum value in the group\n",
        "data_grouped = data_cleaned.groupby(['lab', 'compound'])\n",
        "data_cleaned['c_real_M_group_norm'] = data_grouped['c_real_M'].transform(lambda x: x / x.max())\n",
        "data_cleaned = data_cleaned.drop(columns=['c_real_M'])\n",
        "\n",
        "# Encoding multiple columns\n",
        "le = LabelEncoder()\n",
        "for col in ['lab', 'compound', 'sample']:\n",
        "    if data_cleaned[col].dtype == 'object':\n",
        "        data_cleaned[col] = le.fit_transform(data_cleaned[col])\n",
        "\n",
        "#Encoding y values\n",
        "data_cleaned['note'] = data_cleaned['note'].map({'non-linear': 0, 'linear': 1})\n",
        "\n",
        "data_cleaned.head()"
      ],
      "metadata": {
        "id": "hZvwNedWqR8r",
        "colab": {
          "base_uri": "https://localhost:8080/",
          "height": 333
        },
        "outputId": "f0a9cc8d-c78d-4ec9-d8f4-c62fba3d40aa"
      },
      "execution_count": null,
      "outputs": [
        {
          "output_type": "stream",
          "name": "stdout",
          "text": [
            "Before had 3938 rows and after dropping rows, where concentration is missing, have 3926 rows.\n"
          ]
        },
        {
          "output_type": "stream",
          "name": "stderr",
          "text": [
            "<ipython-input-7-34d88a42814b>:11: SettingWithCopyWarning: \n",
            "A value is trying to be set on a copy of a slice from a DataFrame.\n",
            "Try using .loc[row_indexer,col_indexer] = value instead\n",
            "\n",
            "See the caveats in the documentation: https://pandas.pydata.org/pandas-docs/stable/user_guide/indexing.html#returning-a-view-versus-a-copy\n"
          ]
        },
        {
          "output_type": "execute_result",
          "data": {
            "text/plain": [
              "   lab  compound    RT  sample     peak_area  note  c_real_M_group_norm\n",
              "0    0         0  0.72       0  2.856002e+08     0              1.00000\n",
              "1    0         0  0.72       1  1.030577e+08     0              0.41280\n",
              "2    0         0  0.72       2  6.593301e+07     0              0.21440\n",
              "3    0         0  0.72       3  3.805867e+07     0              0.12448\n",
              "4    0         0  0.72       4  1.340538e+07     1              0.03760"
            ],
            "text/html": [
              "\n",
              "  <div id=\"df-8b629acd-72ec-4e9c-84b0-40ae9077ac15\" class=\"colab-df-container\">\n",
              "    <div>\n",
              "<style scoped>\n",
              "    .dataframe tbody tr th:only-of-type {\n",
              "        vertical-align: middle;\n",
              "    }\n",
              "\n",
              "    .dataframe tbody tr th {\n",
              "        vertical-align: top;\n",
              "    }\n",
              "\n",
              "    .dataframe thead th {\n",
              "        text-align: right;\n",
              "    }\n",
              "</style>\n",
              "<table border=\"1\" class=\"dataframe\">\n",
              "  <thead>\n",
              "    <tr style=\"text-align: right;\">\n",
              "      <th></th>\n",
              "      <th>lab</th>\n",
              "      <th>compound</th>\n",
              "      <th>RT</th>\n",
              "      <th>sample</th>\n",
              "      <th>peak_area</th>\n",
              "      <th>note</th>\n",
              "      <th>c_real_M_group_norm</th>\n",
              "    </tr>\n",
              "  </thead>\n",
              "  <tbody>\n",
              "    <tr>\n",
              "      <th>0</th>\n",
              "      <td>0</td>\n",
              "      <td>0</td>\n",
              "      <td>0.72</td>\n",
              "      <td>0</td>\n",
              "      <td>2.856002e+08</td>\n",
              "      <td>0</td>\n",
              "      <td>1.00000</td>\n",
              "    </tr>\n",
              "    <tr>\n",
              "      <th>1</th>\n",
              "      <td>0</td>\n",
              "      <td>0</td>\n",
              "      <td>0.72</td>\n",
              "      <td>1</td>\n",
              "      <td>1.030577e+08</td>\n",
              "      <td>0</td>\n",
              "      <td>0.41280</td>\n",
              "    </tr>\n",
              "    <tr>\n",
              "      <th>2</th>\n",
              "      <td>0</td>\n",
              "      <td>0</td>\n",
              "      <td>0.72</td>\n",
              "      <td>2</td>\n",
              "      <td>6.593301e+07</td>\n",
              "      <td>0</td>\n",
              "      <td>0.21440</td>\n",
              "    </tr>\n",
              "    <tr>\n",
              "      <th>3</th>\n",
              "      <td>0</td>\n",
              "      <td>0</td>\n",
              "      <td>0.72</td>\n",
              "      <td>3</td>\n",
              "      <td>3.805867e+07</td>\n",
              "      <td>0</td>\n",
              "      <td>0.12448</td>\n",
              "    </tr>\n",
              "    <tr>\n",
              "      <th>4</th>\n",
              "      <td>0</td>\n",
              "      <td>0</td>\n",
              "      <td>0.72</td>\n",
              "      <td>4</td>\n",
              "      <td>1.340538e+07</td>\n",
              "      <td>1</td>\n",
              "      <td>0.03760</td>\n",
              "    </tr>\n",
              "  </tbody>\n",
              "</table>\n",
              "</div>\n",
              "    <div class=\"colab-df-buttons\">\n",
              "\n",
              "  <div class=\"colab-df-container\">\n",
              "    <button class=\"colab-df-convert\" onclick=\"convertToInteractive('df-8b629acd-72ec-4e9c-84b0-40ae9077ac15')\"\n",
              "            title=\"Convert this dataframe to an interactive table.\"\n",
              "            style=\"display:none;\">\n",
              "\n",
              "  <svg xmlns=\"http://www.w3.org/2000/svg\" height=\"24px\" viewBox=\"0 -960 960 960\">\n",
              "    <path d=\"M120-120v-720h720v720H120Zm60-500h600v-160H180v160Zm220 220h160v-160H400v160Zm0 220h160v-160H400v160ZM180-400h160v-160H180v160Zm440 0h160v-160H620v160ZM180-180h160v-160H180v160Zm440 0h160v-160H620v160Z\"/>\n",
              "  </svg>\n",
              "    </button>\n",
              "\n",
              "  <style>\n",
              "    .colab-df-container {\n",
              "      display:flex;\n",
              "      gap: 12px;\n",
              "    }\n",
              "\n",
              "    .colab-df-convert {\n",
              "      background-color: #E8F0FE;\n",
              "      border: none;\n",
              "      border-radius: 50%;\n",
              "      cursor: pointer;\n",
              "      display: none;\n",
              "      fill: #1967D2;\n",
              "      height: 32px;\n",
              "      padding: 0 0 0 0;\n",
              "      width: 32px;\n",
              "    }\n",
              "\n",
              "    .colab-df-convert:hover {\n",
              "      background-color: #E2EBFA;\n",
              "      box-shadow: 0px 1px 2px rgba(60, 64, 67, 0.3), 0px 1px 3px 1px rgba(60, 64, 67, 0.15);\n",
              "      fill: #174EA6;\n",
              "    }\n",
              "\n",
              "    .colab-df-buttons div {\n",
              "      margin-bottom: 4px;\n",
              "    }\n",
              "\n",
              "    [theme=dark] .colab-df-convert {\n",
              "      background-color: #3B4455;\n",
              "      fill: #D2E3FC;\n",
              "    }\n",
              "\n",
              "    [theme=dark] .colab-df-convert:hover {\n",
              "      background-color: #434B5C;\n",
              "      box-shadow: 0px 1px 3px 1px rgba(0, 0, 0, 0.15);\n",
              "      filter: drop-shadow(0px 1px 2px rgba(0, 0, 0, 0.3));\n",
              "      fill: #FFFFFF;\n",
              "    }\n",
              "  </style>\n",
              "\n",
              "    <script>\n",
              "      const buttonEl =\n",
              "        document.querySelector('#df-8b629acd-72ec-4e9c-84b0-40ae9077ac15 button.colab-df-convert');\n",
              "      buttonEl.style.display =\n",
              "        google.colab.kernel.accessAllowed ? 'block' : 'none';\n",
              "\n",
              "      async function convertToInteractive(key) {\n",
              "        const element = document.querySelector('#df-8b629acd-72ec-4e9c-84b0-40ae9077ac15');\n",
              "        const dataTable =\n",
              "          await google.colab.kernel.invokeFunction('convertToInteractive',\n",
              "                                                    [key], {});\n",
              "        if (!dataTable) return;\n",
              "\n",
              "        const docLinkHtml = 'Like what you see? Visit the ' +\n",
              "          '<a target=\"_blank\" href=https://colab.research.google.com/notebooks/data_table.ipynb>data table notebook</a>'\n",
              "          + ' to learn more about interactive tables.';\n",
              "        element.innerHTML = '';\n",
              "        dataTable['output_type'] = 'display_data';\n",
              "        await google.colab.output.renderOutput(dataTable, element);\n",
              "        const docLink = document.createElement('div');\n",
              "        docLink.innerHTML = docLinkHtml;\n",
              "        element.appendChild(docLink);\n",
              "      }\n",
              "    </script>\n",
              "  </div>\n",
              "\n",
              "\n",
              "<div id=\"df-727f1711-2c91-42e4-90a9-cdd329ed4744\">\n",
              "  <button class=\"colab-df-quickchart\" onclick=\"quickchart('df-727f1711-2c91-42e4-90a9-cdd329ed4744')\"\n",
              "            title=\"Suggest charts\"\n",
              "            style=\"display:none;\">\n",
              "\n",
              "<svg xmlns=\"http://www.w3.org/2000/svg\" height=\"24px\"viewBox=\"0 0 24 24\"\n",
              "     width=\"24px\">\n",
              "    <g>\n",
              "        <path d=\"M19 3H5c-1.1 0-2 .9-2 2v14c0 1.1.9 2 2 2h14c1.1 0 2-.9 2-2V5c0-1.1-.9-2-2-2zM9 17H7v-7h2v7zm4 0h-2V7h2v10zm4 0h-2v-4h2v4z\"/>\n",
              "    </g>\n",
              "</svg>\n",
              "  </button>\n",
              "\n",
              "<style>\n",
              "  .colab-df-quickchart {\n",
              "      --bg-color: #E8F0FE;\n",
              "      --fill-color: #1967D2;\n",
              "      --hover-bg-color: #E2EBFA;\n",
              "      --hover-fill-color: #174EA6;\n",
              "      --disabled-fill-color: #AAA;\n",
              "      --disabled-bg-color: #DDD;\n",
              "  }\n",
              "\n",
              "  [theme=dark] .colab-df-quickchart {\n",
              "      --bg-color: #3B4455;\n",
              "      --fill-color: #D2E3FC;\n",
              "      --hover-bg-color: #434B5C;\n",
              "      --hover-fill-color: #FFFFFF;\n",
              "      --disabled-bg-color: #3B4455;\n",
              "      --disabled-fill-color: #666;\n",
              "  }\n",
              "\n",
              "  .colab-df-quickchart {\n",
              "    background-color: var(--bg-color);\n",
              "    border: none;\n",
              "    border-radius: 50%;\n",
              "    cursor: pointer;\n",
              "    display: none;\n",
              "    fill: var(--fill-color);\n",
              "    height: 32px;\n",
              "    padding: 0;\n",
              "    width: 32px;\n",
              "  }\n",
              "\n",
              "  .colab-df-quickchart:hover {\n",
              "    background-color: var(--hover-bg-color);\n",
              "    box-shadow: 0 1px 2px rgba(60, 64, 67, 0.3), 0 1px 3px 1px rgba(60, 64, 67, 0.15);\n",
              "    fill: var(--button-hover-fill-color);\n",
              "  }\n",
              "\n",
              "  .colab-df-quickchart-complete:disabled,\n",
              "  .colab-df-quickchart-complete:disabled:hover {\n",
              "    background-color: var(--disabled-bg-color);\n",
              "    fill: var(--disabled-fill-color);\n",
              "    box-shadow: none;\n",
              "  }\n",
              "\n",
              "  .colab-df-spinner {\n",
              "    border: 2px solid var(--fill-color);\n",
              "    border-color: transparent;\n",
              "    border-bottom-color: var(--fill-color);\n",
              "    animation:\n",
              "      spin 1s steps(1) infinite;\n",
              "  }\n",
              "\n",
              "  @keyframes spin {\n",
              "    0% {\n",
              "      border-color: transparent;\n",
              "      border-bottom-color: var(--fill-color);\n",
              "      border-left-color: var(--fill-color);\n",
              "    }\n",
              "    20% {\n",
              "      border-color: transparent;\n",
              "      border-left-color: var(--fill-color);\n",
              "      border-top-color: var(--fill-color);\n",
              "    }\n",
              "    30% {\n",
              "      border-color: transparent;\n",
              "      border-left-color: var(--fill-color);\n",
              "      border-top-color: var(--fill-color);\n",
              "      border-right-color: var(--fill-color);\n",
              "    }\n",
              "    40% {\n",
              "      border-color: transparent;\n",
              "      border-right-color: var(--fill-color);\n",
              "      border-top-color: var(--fill-color);\n",
              "    }\n",
              "    60% {\n",
              "      border-color: transparent;\n",
              "      border-right-color: var(--fill-color);\n",
              "    }\n",
              "    80% {\n",
              "      border-color: transparent;\n",
              "      border-right-color: var(--fill-color);\n",
              "      border-bottom-color: var(--fill-color);\n",
              "    }\n",
              "    90% {\n",
              "      border-color: transparent;\n",
              "      border-bottom-color: var(--fill-color);\n",
              "    }\n",
              "  }\n",
              "</style>\n",
              "\n",
              "  <script>\n",
              "    async function quickchart(key) {\n",
              "      const quickchartButtonEl =\n",
              "        document.querySelector('#' + key + ' button');\n",
              "      quickchartButtonEl.disabled = true;  // To prevent multiple clicks.\n",
              "      quickchartButtonEl.classList.add('colab-df-spinner');\n",
              "      try {\n",
              "        const charts = await google.colab.kernel.invokeFunction(\n",
              "            'suggestCharts', [key], {});\n",
              "      } catch (error) {\n",
              "        console.error('Error during call to suggestCharts:', error);\n",
              "      }\n",
              "      quickchartButtonEl.classList.remove('colab-df-spinner');\n",
              "      quickchartButtonEl.classList.add('colab-df-quickchart-complete');\n",
              "    }\n",
              "    (() => {\n",
              "      let quickchartButtonEl =\n",
              "        document.querySelector('#df-727f1711-2c91-42e4-90a9-cdd329ed4744 button');\n",
              "      quickchartButtonEl.style.display =\n",
              "        google.colab.kernel.accessAllowed ? 'block' : 'none';\n",
              "    })();\n",
              "  </script>\n",
              "</div>\n",
              "    </div>\n",
              "  </div>\n"
            ]
          },
          "metadata": {},
          "execution_count": 7
        }
      ]
    },
    {
      "cell_type": "markdown",
      "source": [
        "####Splitting the data (keeping points of same compound measured in same labs in either training or validation set)"
      ],
      "metadata": {
        "id": "7WUiKvlPIe4y"
      }
    },
    {
      "cell_type": "code",
      "source": [
        "groups = data_cleaned.groupby(['lab', 'compound'])\n",
        "# Get the list of unique group identifiers (lab, compound)\n",
        "group_identifiers = list(groups.groups.keys())\n",
        "\n",
        "# Shuffle the group identifiers\n",
        "np.random.shuffle(group_identifiers)\n",
        "\n",
        "train_indices = []\n",
        "test_indices = []\n",
        "for group_id in group_identifiers:\n",
        "    group = groups.get_group(group_id)\n",
        "    if np.random.rand() < 0.8:  # 80% chance to go into training set\n",
        "        train_indices.extend(group.index)\n",
        "    else:\n",
        "        test_indices.extend(group.index)\n",
        "\n",
        "train_data = data_cleaned.loc[train_indices]\n",
        "test_data = data_cleaned.loc[test_indices]\n",
        "\n",
        "X_train = train_data.drop(['note'], axis=1)\n",
        "y_train = train_data['note']\n",
        "X_val = test_data.drop(['note'], axis=1)\n",
        "y_val = test_data['note']"
      ],
      "metadata": {
        "id": "0vM8JOYc7DH7"
      },
      "execution_count": null,
      "outputs": []
    },
    {
      "cell_type": "markdown",
      "source": [
        "###Single Learning Approach"
      ],
      "metadata": {
        "id": "LpBcfOwWCPtK"
      }
    },
    {
      "cell_type": "markdown",
      "source": [
        "####Dummy Classifier"
      ],
      "metadata": {
        "id": "VicKil4Yo5JT"
      }
    },
    {
      "cell_type": "code",
      "source": [
        "from sklearn.dummy import DummyClassifier\n",
        "\n",
        "dummy_model = DummyClassifier(strategy='uniform', random_state=42)\n",
        "dummy_model.fit(X_train, y_train)\n",
        "predictions_dummy = dummy_model.predict(X_val)\n",
        "\n",
        "print(f\"Accuracy of Dummy Classifier is {round(accuracy_score(y_val, predictions_dummy),3)*100}%.\")\n",
        "print(\"Classification Report (Dummy Classifier):\\n\", classification_report(y_val, predictions_dummy))"
      ],
      "metadata": {
        "colab": {
          "base_uri": "https://localhost:8080/"
        },
        "id": "gh-hWCKFnckj",
        "outputId": "cd77da99-3bfd-4235-c9ba-f3c22905eeaf"
      },
      "execution_count": null,
      "outputs": [
        {
          "output_type": "stream",
          "name": "stdout",
          "text": [
            "Accuracy of Dummy Classifier is 52.1%.\n",
            "Classification Report (Dummy Classifier):\n",
            "               precision    recall  f1-score   support\n",
            "\n",
            "           0       0.45      0.51      0.48       367\n",
            "           1       0.58      0.53      0.56       476\n",
            "\n",
            "    accuracy                           0.52       843\n",
            "   macro avg       0.52      0.52      0.52       843\n",
            "weighted avg       0.53      0.52      0.52       843\n",
            "\n"
          ]
        }
      ]
    },
    {
      "cell_type": "code",
      "source": [
        "conf_matrix_dummy = confusion_matrix(y_val, predictions_dummy)\n",
        "\n",
        "plt.figure(figsize=(8, 6))\n",
        "sns.heatmap(conf_matrix_dummy, annot=True, fmt='d', cmap='Blues', cbar=False,\n",
        "            xticklabels=dummy_model.classes_, yticklabels=dummy_model.classes_)\n",
        "plt.xlabel('Predicted')\n",
        "plt.ylabel('Actual')\n",
        "plt.title('Confusion Matrix - Dummy Classifier')\n",
        "plt.show()"
      ],
      "metadata": {
        "colab": {
          "base_uri": "https://localhost:8080/",
          "height": 564
        },
        "id": "fj98LFoloZMz",
        "outputId": "137164e4-d7eb-4e66-f0d4-b7d4b41b7e82"
      },
      "execution_count": null,
      "outputs": [
        {
          "output_type": "display_data",
          "data": {
            "text/plain": [
              "<Figure size 800x600 with 1 Axes>"
            ],
            "image/png": "[encoded data removed]"
          },
          "metadata": {}
        }
      ]
    },
    {
      "cell_type": "markdown",
      "source": [
        "####Logistic Regression"
      ],
      "metadata": {
        "id": "UTXdYk6PpX5X"
      }
    },
    {
      "cell_type": "code",
      "source": [
        "from sklearn.linear_model import LogisticRegression\n",
        "\n",
        "log_reg_model = LogisticRegression(max_iter=1000, random_state=42)\n",
        "log_reg_model.fit(X_train, y_train)\n",
        "predictions_log_reg = log_reg_model.predict(X_val)\n",
        "\n",
        "print(f\"Accuracy of Logistic Regression is {round(accuracy_score(y_val, predictions_log_reg),3)*100}%.\")\n",
        "print(\"Classification Report (Logistic Regression):\\n\", classification_report(y_val, predictions_log_reg))"
      ],
      "metadata": {
        "colab": {
          "base_uri": "https://localhost:8080/"
        },
        "id": "cqoBXgSKCTqW",
        "outputId": "c9b730df-6fea-477d-ca39-3dcb213793ea"
      },
      "execution_count": null,
      "outputs": [
        {
          "output_type": "stream",
          "name": "stdout",
          "text": [
            "Accuracy of Logistic Regression is 43.5%.\n",
            "Classification Report (Logistic Regression):\n",
            "               precision    recall  f1-score   support\n",
            "\n",
            "           0       0.44      1.00      0.61       367\n",
            "           1       0.00      0.00      0.00       476\n",
            "\n",
            "    accuracy                           0.44       843\n",
            "   macro avg       0.22      0.50      0.30       843\n",
            "weighted avg       0.19      0.44      0.26       843\n",
            "\n"
          ]
        },
        {
          "output_type": "stream",
          "name": "stderr",
          "text": [
            "/usr/local/lib/python3.10/dist-packages/sklearn/metrics/_classification.py:1344: UndefinedMetricWarning: Precision and F-score are ill-defined and being set to 0.0 in labels with no predicted samples. Use `zero_division` parameter to control this behavior.\n",
            "/usr/local/lib/python3.10/dist-packages/sklearn/metrics/_classification.py:1344: UndefinedMetricWarning: Precision and F-score are ill-defined and being set to 0.0 in labels with no predicted samples. Use `zero_division` parameter to control this behavior.\n",
            "/usr/local/lib/python3.10/dist-packages/sklearn/metrics/_classification.py:1344: UndefinedMetricWarning: Precision and F-score are ill-defined and being set to 0.0 in labels with no predicted samples. Use `zero_division` parameter to control this behavior.\n"
          ]
        }
      ]
    },
    {
      "cell_type": "code",
      "source": [
        "conf_matrix_log_reg = confusion_matrix(y_val, predictions_log_reg)\n",
        "\n",
        "plt.figure(figsize=(8, 6))\n",
        "sns.heatmap(conf_matrix_log_reg, annot=True, fmt='d', cmap='Blues', cbar=False,\n",
        "            xticklabels=log_reg_model.classes_, yticklabels=log_reg_model.classes_)\n",
        "plt.xlabel('Predicted')\n",
        "plt.ylabel('Actual')\n",
        "plt.title('Confusion Matrix - Logistic Regression')\n",
        "plt.show()"
      ],
      "metadata": {
        "colab": {
          "base_uri": "https://localhost:8080/",
          "height": 564
        },
        "id": "NkwwKdZZpdHB",
        "outputId": "c39d44b2-400b-40bf-f8d0-587d69ac8498"
      },
      "execution_count": null,
      "outputs": [
        {
          "output_type": "display_data",
          "data": {
            "text/plain": [
              "<Figure size 800x600 with 1 Axes>"
            ],
            "image/png": "[encoded data removed]"
          },
          "metadata": {}
        }
      ]
    },
    {
      "cell_type": "markdown",
      "source": [
        "####Decision Tree"
      ],
      "metadata": {
        "id": "0b8bhi3LpvQ0"
      }
    },
    {
      "cell_type": "code",
      "source": [
        "from sklearn.tree import DecisionTreeClassifier\n",
        "\n",
        "DT_model = DecisionTreeClassifier(random_state=42)\n",
        "DT_model.fit(X_train, y_train)\n",
        "predictions_DT = DT_model.predict(X_val)\n",
        "\n",
        "print(f\"Accuracy of Decision Tree is {round(accuracy_score(y_val, predictions_DT),3)*100}%.\")\n",
        "print(\"Classification Report (Decision Tree):\\n\", classification_report(y_val, predictions_DT))"
      ],
      "metadata": {
        "colab": {
          "base_uri": "https://localhost:8080/"
        },
        "id": "udxXU1MlC9Kk",
        "outputId": "ff4f6109-d9be-4564-dc6f-ab92e44c392c"
      },
      "execution_count": null,
      "outputs": [
        {
          "output_type": "stream",
          "name": "stdout",
          "text": [
            "Accuracy of Decision Tree is 65.8%.\n",
            "Classification Report (Decision Tree):\n",
            "               precision    recall  f1-score   support\n",
            "\n",
            "           0       0.61      0.62      0.61       367\n",
            "           1       0.70      0.69      0.70       476\n",
            "\n",
            "    accuracy                           0.66       843\n",
            "   macro avg       0.65      0.65      0.65       843\n",
            "weighted avg       0.66      0.66      0.66       843\n",
            "\n"
          ]
        }
      ]
    },
    {
      "cell_type": "code",
      "source": [
        "conf_matrix_DT = confusion_matrix(y_val, predictions_DT)\n",
        "\n",
        "plt.figure(figsize=(8, 6))\n",
        "sns.heatmap(conf_matrix_DT, annot=True, fmt='d', cmap='Blues', cbar=False,\n",
        "            xticklabels=DT_model.classes_, yticklabels=DT_model.classes_)\n",
        "plt.xlabel('Predicted')\n",
        "plt.ylabel('Actual')\n",
        "plt.title('Confusion Matrix - Decision Tree')\n",
        "plt.show()"
      ],
      "metadata": {
        "colab": {
          "base_uri": "https://localhost:8080/",
          "height": 564
        },
        "id": "jqWqRYoyqJ5C",
        "outputId": "09d70e18-3de7-4e3b-c1d2-2e33a6dcbcfe"
      },
      "execution_count": null,
      "outputs": [
        {
          "output_type": "display_data",
          "data": {
            "text/plain": [
              "<Figure size 800x600 with 1 Axes>"
            ],
            "image/png": "[encoded data removed]"
          },
          "metadata": {}
        }
      ]
    },
    {
      "cell_type": "markdown",
      "source": [
        "####K-nearest Neighbours"
      ],
      "metadata": {
        "id": "Ta0_F_l6qXbg"
      }
    },
    {
      "cell_type": "markdown",
      "source": [
        "The K-Nearest Neighbors (KNN) algorithm may not be the most effective choice for our dataset. KNN operates by grouping the k closest data points into a cluster to make predictions. In our scenario, data points representing the same chemical compound are likely to be the nearest neighbors. Consequently, KNN would tend to classify all k of these points as either linear or non-linear based on the majority in their vicinity. However, this approach overlooks the fact that each graph representing a chemical compound can have a varying mix of linear and non-linear points. As a result, KNN's methodology might oversimplify the complexity inherent in our dataset, leading to less accurate predictions.\n"
      ],
      "metadata": {
        "id": "Wodqsg5PBro-"
      }
    },
    {
      "cell_type": "code",
      "source": [
        "from sklearn.neighbors import KNeighborsClassifier\n",
        "\n",
        "knn_model = KNeighborsClassifier()\n",
        "knn_model.fit(X_train, y_train)\n",
        "predictions_knn = knn_model.predict(X_val)\n",
        "\n",
        "print(f\"Accuracy of K-Nearest Neighbors is {round(accuracy_score(y_val, predictions_knn),3)*100}%.\")\n",
        "print(\"Classification Report (K-Nearest Neighbors):\\n\", classification_report(y_val, predictions_knn))"
      ],
      "metadata": {
        "colab": {
          "base_uri": "https://localhost:8080/"
        },
        "id": "UfhvNV9FDnpJ",
        "outputId": "aac4e6ff-42f6-4811-d1ee-52a60d03a141"
      },
      "execution_count": null,
      "outputs": [
        {
          "output_type": "stream",
          "name": "stdout",
          "text": [
            "Accuracy of K-Nearest Neighbors is 52.1%.\n",
            "Classification Report (K-Nearest Neighbors):\n",
            "               precision    recall  f1-score   support\n",
            "\n",
            "           0       0.45      0.42      0.43       367\n",
            "           1       0.57      0.60      0.58       476\n",
            "\n",
            "    accuracy                           0.52       843\n",
            "   macro avg       0.51      0.51      0.51       843\n",
            "weighted avg       0.52      0.52      0.52       843\n",
            "\n"
          ]
        }
      ]
    },
    {
      "cell_type": "code",
      "source": [
        "conf_matrix_knn = confusion_matrix(y_val, predictions_knn)\n",
        "\n",
        "plt.figure(figsize=(8, 6))\n",
        "sns.heatmap(conf_matrix_knn, annot=True, fmt='d', cmap='Blues', cbar=False,\n",
        "            xticklabels=knn_model.classes_, yticklabels=knn_model.classes_)\n",
        "plt.xlabel('Predicted')\n",
        "plt.ylabel('Actual')\n",
        "plt.title('Confusion Matrix - K-nearest neighbours')\n",
        "plt.show()"
      ],
      "metadata": {
        "id": "eLVfgM-RrAYU",
        "colab": {
          "base_uri": "https://localhost:8080/",
          "height": 564
        },
        "outputId": "8896b242-bf49-4917-80a7-8400e88521a8"
      },
      "execution_count": null,
      "outputs": [
        {
          "output_type": "display_data",
          "data": {
            "text/plain": [
              "<Figure size 800x600 with 1 Axes>"
            ],
            "image/png": "[encoded data removed]"
          },
          "metadata": {}
        }
      ]
    },
    {
      "cell_type": "markdown",
      "source": [
        "###Ensemble Learning"
      ],
      "metadata": {
        "id": "cZMTMBnB2zy9"
      }
    },
    {
      "cell_type": "markdown",
      "source": [
        "####Random Forest\n"
      ],
      "metadata": {
        "id": "-QyyMZXlvj-G"
      }
    },
    {
      "cell_type": "code",
      "source": [
        "from sklearn.ensemble import RandomForestClassifier\n",
        "from sklearn.model_selection import GridSearchCV\n",
        "rf_model = RandomForestClassifier(random_state=42)\n",
        "\n",
        "param_grid = {\n",
        "    'n_estimators': [50, 100, 200],\n",
        "    'max_depth': [None, 10, 20, 30],\n",
        "    'min_samples_split': [2, 5, 10],\n",
        "    'min_samples_leaf': [1, 2, 4]\n",
        "}\n",
        "\n",
        "grid_search = GridSearchCV(estimator=rf_model, param_grid=param_grid, cv=5, scoring='accuracy')\n",
        "\n",
        "grid_search.fit(X_train, y_train)\n",
        "\n",
        "best_params = grid_search.best_params_\n",
        "best_model_RF = grid_search.best_estimator_\n",
        "\n",
        "predictions_best_model_RF = best_model_RF.predict(X_val)\n",
        "accuracy_best_model_RF = accuracy_score(y_val, predictions_best_model_RF)\n",
        "\n",
        "print(f\"Best Parameters: {best_params}\")\n",
        "print(f\"Accuracy of Random Forest is {round(accuracy_best_model_RF, 3)*100} %.\")"
      ],
      "metadata": {
        "colab": {
          "base_uri": "https://localhost:8080/"
        },
        "id": "41xGvRYVvm6X",
        "outputId": "8240b4f0-e800-4019-f1a1-62f55c8cf51b"
      },
      "execution_count": null,
      "outputs": [
        {
          "output_type": "stream",
          "name": "stdout",
          "text": [
            "Best Parameters: {'max_depth': 20, 'min_samples_leaf': 1, 'min_samples_split': 10, 'n_estimators': 50}\n",
            "Accuracy of Random Forest is 77.5 %.\n"
          ]
        }
      ]
    },
    {
      "cell_type": "code",
      "source": [
        "conf_matrix_RF = confusion_matrix(y_val, predictions_best_model_RF)\n",
        "\n",
        "plt.figure(figsize=(8, 6))\n",
        "sns.heatmap(conf_matrix_RF, annot=True, fmt='d', cmap='Blues', cbar=False,\n",
        "            xticklabels=best_model_RF.classes_, yticklabels=best_model_RF.classes_)\n",
        "plt.xlabel('Predicted')\n",
        "plt.ylabel('Actual')\n",
        "plt.title('Confusion Matrix - Random Forest')\n",
        "plt.show()"
      ],
      "metadata": {
        "colab": {
          "base_uri": "https://localhost:8080/",
          "height": 564
        },
        "id": "_PuH3wurxOZ1",
        "outputId": "8a778b1c-9400-41f3-feae-59b07d2f9846"
      },
      "execution_count": null,
      "outputs": [
        {
          "output_type": "display_data",
          "data": {
            "text/plain": [
              "<Figure size 800x600 with 1 Axes>"
            ],
            "image/png": "[encoded data removed]"
          },
          "metadata": {}
        }
      ]
    },
    {
      "cell_type": "markdown",
      "source": [
        "####AdaBoost"
      ],
      "metadata": {
        "id": "ZbH-c0xN26H9"
      }
    },
    {
      "cell_type": "code",
      "source": [
        "from sklearn.ensemble import AdaBoostClassifier\n",
        "from sklearn.model_selection import GridSearchCV\n",
        "\n",
        "estimator = DecisionTreeClassifier(random_state=42)\n",
        "\n",
        "param_grid = {\n",
        "    'n_estimators': [50, 100, 200],\n",
        "    'learning_rate': [0.01, 0.1, 1],\n",
        "    'estimator__max_depth': [1, 2, 3, 4]\n",
        "}\n",
        "\n",
        "ada_boost = AdaBoostClassifier(estimator=estimator, random_state=1)\n",
        "grid_search = GridSearchCV(ada_boost, param_grid, cv=5, scoring='accuracy')\n",
        "\n",
        "grid_search.fit(X_train, y_train)\n",
        "\n",
        "best_params = grid_search.best_params_\n",
        "best_model_ada = grid_search.best_estimator_\n",
        "\n",
        "predictions_best_model_ada = best_model_ada.predict(X_val)\n",
        "accuracy_best_model_ada = accuracy_score(y_val, predictions_best_model_ada)\n",
        "\n",
        "print(f\"Best Parameters: {best_params}\")\n",
        "print(f\"Accuracy of Adaptive Boosting Classifier is {round(accuracy_best_model_ada, 3)*100} %.\")"
      ],
      "metadata": {
        "colab": {
          "base_uri": "https://localhost:8080/"
        },
        "id": "HBkuJJKmLKnS",
        "outputId": "0cc65260-1fc6-478e-e45d-20cc5089de95"
      },
      "execution_count": null,
      "outputs": [
        {
          "output_type": "stream",
          "name": "stdout",
          "text": [
            "Best Parameters: {'estimator__max_depth': 3, 'learning_rate': 0.1, 'n_estimators': 50}\n",
            "Accuracy of Adaptive Boosting Classifier is 74.4 %.\n"
          ]
        }
      ]
    },
    {
      "cell_type": "code",
      "source": [
        "conf_matrix_ada = confusion_matrix(y_val, predictions_best_model_ada)\n",
        "\n",
        "plt.figure(figsize=(8, 6))\n",
        "sns.heatmap(conf_matrix_ada, annot=True, fmt='d', cmap='Blues', cbar=False,\n",
        "            xticklabels=best_model_ada.classes_, yticklabels=best_model_ada.classes_)\n",
        "plt.xlabel('Predicted')\n",
        "plt.ylabel('Actual')\n",
        "plt.title('Confusion Matrix - AdaBoost Classifier')\n",
        "plt.show()"
      ],
      "metadata": {
        "colab": {
          "base_uri": "https://localhost:8080/",
          "height": 564
        },
        "id": "8tcB45WBbxkC",
        "outputId": "861c9455-7225-4e2a-c836-68be144b4d45"
      },
      "execution_count": null,
      "outputs": [
        {
          "output_type": "display_data",
          "data": {
            "text/plain": [
              "<Figure size 800x600 with 1 Axes>"
            ],
            "image/png": "[encoded data removed]"
          },
          "metadata": {}
        }
      ]
    },
    {
      "cell_type": "markdown",
      "source": [
        "####Gradient Boost"
      ],
      "metadata": {
        "id": "fobko4KB3A1q"
      }
    },
    {
      "cell_type": "code",
      "source": [
        "from sklearn.ensemble import GradientBoostingClassifier\n",
        "\n",
        "param_grid = {\n",
        "    'n_estimators': [100, 200, 300],\n",
        "    'learning_rate': [0.01, 0.1, 0.2],\n",
        "    'max_depth': [3, 4, 5],\n",
        "    'min_samples_split': [2, 4],\n",
        "    'min_samples_leaf': [1, 2],\n",
        "    'max_features': [None, 'sqrt']\n",
        "}\n",
        "\n",
        "gbm = GradientBoostingClassifier(random_state=42)\n",
        "grid_search = GridSearchCV(gbm, param_grid, cv=5, scoring='accuracy')\n",
        "\n",
        "grid_search.fit(X_train, y_train)\n",
        "\n",
        "best_params = grid_search.best_params_\n",
        "best_model_gradientb = grid_search.best_estimator_\n",
        "\n",
        "predictions_best_model_gradientb = best_model_gradientb.predict(X_val)\n",
        "accuracy_best_model_gradientb = accuracy_score(y_val, predictions_best_model_gradientb)\n",
        "\n",
        "print(f\"Best Parameters: {best_params}\")\n",
        "print(f\"Accuracy of Gradient Boosting Classifier is {round(accuracy_best_model_gradientb, 3)*100} %.\")"
      ],
      "metadata": {
        "colab": {
          "base_uri": "https://localhost:8080/"
        },
        "id": "43iCc2uLEa-9",
        "outputId": "faae9de3-6075-4de2-c3ab-22cef09d73b2"
      },
      "execution_count": null,
      "outputs": [
        {
          "output_type": "stream",
          "name": "stdout",
          "text": [
            "Best Parameters: {'learning_rate': 0.1, 'max_depth': 4, 'max_features': 'sqrt', 'min_samples_leaf': 1, 'min_samples_split': 2, 'n_estimators': 300}\n",
            "Accuracy of Gradient Boosting Classifier is 73.5 %.\n"
          ]
        }
      ]
    },
    {
      "cell_type": "code",
      "source": [
        "conf_matrix_gbm = confusion_matrix(y_val, predictions_best_model_gradientb)\n",
        "\n",
        "plt.figure(figsize=(8, 6))\n",
        "sns.heatmap(conf_matrix_gbm, annot=True, fmt='d', cmap='Blues', cbar=False,\n",
        "            xticklabels=best_model_gradientb.classes_, yticklabels=best_model_gradientb.classes_)\n",
        "plt.xlabel('Predicted')\n",
        "plt.ylabel('Actual')\n",
        "plt.title('Confusion Matrix - Gradient Boosting Classifier')\n",
        "plt.show()"
      ],
      "metadata": {
        "colab": {
          "base_uri": "https://localhost:8080/",
          "height": 564
        },
        "id": "LRyTr_aac7O3",
        "outputId": "8c513c84-56fc-49f5-b521-1e3680840224"
      },
      "execution_count": null,
      "outputs": [
        {
          "output_type": "display_data",
          "data": {
            "text/plain": [
              "<Figure size 800x600 with 1 Axes>"
            ],
            "image/png": "[encoded data removed]"
          },
          "metadata": {}
        }
      ]
    },
    {
      "cell_type": "markdown",
      "source": [
        "####XGBoost"
      ],
      "metadata": {
        "id": "tJ62JSP-3E-w"
      }
    },
    {
      "cell_type": "code",
      "source": [
        "from xgboost import XGBClassifier\n",
        "\n",
        "# Define the parameter grid\n",
        "param_grid = {\n",
        "    'max_depth': [3, 4, 5],\n",
        "    'min_child_weight': [1, 5, 10],\n",
        "    'gamma': [0.5, 1, 1.5, 2],\n",
        "    'subsample': [0.6, 0.8, 1.0],\n",
        "    'colsample_bytree': [0.6, 0.8, 1.0],\n",
        "    'learning_rate': [0.01, 0.1, 0.2],\n",
        "    'n_estimators': [100, 200, 300]\n",
        "}\n",
        "\n",
        "xgb_clf = XGBClassifier(use_label_encoder=False, eval_metric='logloss', random_state=42)\n",
        "\n",
        "grid_search = GridSearchCV(xgb_clf, param_grid, scoring='accuracy', n_jobs=-1, cv=3)\n",
        "grid_search.fit(X_train, y_train)\n",
        "\n",
        "best_params = grid_search.best_params_\n",
        "best_model_xgb = grid_search.best_estimator_\n",
        "\n",
        "predictions_best_model_xgb = best_model_xgb.predict(X_val)\n",
        "accuracy_best_model_xgb = accuracy_score(y_val, predictions_best_model_xgb)\n",
        "\n",
        "print(f\"Best Parameters: {best_params}\")\n",
        "print(f\"Accuracy of XGBoost Classifier is {round(accuracy_best_model_xgb, 3)*100} %.\")"
      ],
      "metadata": {
        "colab": {
          "base_uri": "https://localhost:8080/"
        },
        "id": "O1qegEVAikAB",
        "outputId": "27a1c10b-4139-444a-8e4e-cc32f0638514"
      },
      "execution_count": null,
      "outputs": [
        {
          "output_type": "stream",
          "name": "stdout",
          "text": [
            "Best Parameters: {'colsample_bytree': 0.8, 'gamma': 0.5, 'learning_rate': 0.2, 'max_depth': 5, 'min_child_weight': 1, 'n_estimators': 300, 'subsample': 0.6}\n",
            "Accuracy of XGBoost Classifier is 75.8 %.\n"
          ]
        }
      ]
    },
    {
      "cell_type": "code",
      "source": [
        "conf_matrix_xgb = confusion_matrix(y_val, predictions_best_model_xgb)\n",
        "\n",
        "plt.figure(figsize=(8, 6))\n",
        "sns.heatmap(conf_matrix_xgb, annot=True, fmt='d', cmap='Blues', cbar=False,\n",
        "            xticklabels=best_model_xgb.classes_, yticklabels=best_model_xgb.classes_)\n",
        "plt.xlabel('Predicted')\n",
        "plt.ylabel('Actual')\n",
        "plt.title('Confusion Matrix - XGBoost Classifier')\n",
        "plt.show()"
      ],
      "metadata": {
        "colab": {
          "base_uri": "https://localhost:8080/",
          "height": 564
        },
        "id": "18-IOxAZmFuf",
        "outputId": "c6016e2a-14a1-47ae-a754-870e1eeb03fc"
      },
      "execution_count": null,
      "outputs": [
        {
          "output_type": "display_data",
          "data": {
            "text/plain": [
              "<Figure size 800x600 with 1 Axes>"
            ],
            "image/png": "[encoded data removed]"
          },
          "metadata": {}
        }
      ]
    }
  ]
}